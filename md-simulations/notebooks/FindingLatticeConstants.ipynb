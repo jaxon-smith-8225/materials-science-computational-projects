{
 "cells": [
  {
   "cell_type": "code",
   "execution_count": 1,
   "id": "6d6a8f1b-9df6-49d5-aa84-b41cc9412ae4",
   "metadata": {},
   "outputs": [],
   "source": [
    "import numpy as np\n",
    "from ase.build import bulk\n",
    "from ase.calculators.emt import EMT\n",
    "from ase.io import Trajectory, read\n",
    "\n",
    "a0 = 3.5 / np.sqrt(2)\n",
    "c0 = np.sqrt(8/3.0) * a0\n",
    "\n",
    "traj = Trajectory('Ni.traj', 'w')"
   ]
  },
  {
   "cell_type": "code",
   "execution_count": 2,
   "id": "29dbe922-62ef-442b-8016-014d1240e747",
   "metadata": {},
   "outputs": [],
   "source": [
    "eps = 0.01\n",
    "for a in a0 * np.linspace(1 - eps, 1 + eps, 3):\n",
    "    for c in c0 * np.linspace(1 - eps, 1 + eps, 3):\n",
    "        ni = bulk('Ni', 'hcp', a=a, c=c)\n",
    "        ni.calc = EMT()\n",
    "        ni.get_potential_energy()\n",
    "        traj.write(ni)"
   ]
  },
  {
   "cell_type": "code",
   "execution_count": 8,
   "id": "5ee45119-52c0-4921-bc0d-3a786f653ae2",
   "metadata": {},
   "outputs": [
    {
     "data": {
      "text/plain": [
       "Cell([[2.5, 0.0, 0.0], [-1.25, 2.1650635094610964, 0.0], [0.0, 0.0, 4.0]])"
      ]
     },
     "execution_count": 8,
     "metadata": {},
     "output_type": "execute_result"
    }
   ],
   "source": [
    "from ase.build import bulk\n",
    "ni = bulk('Ni', 'hcp', a=2.5, c=4.0)\n",
    "ni.cell"
   ]
  },
  {
   "cell_type": "code",
   "execution_count": 12,
   "id": "722a487e-b817-417e-bbd7-53033d16b45e",
   "metadata": {},
   "outputs": [],
   "source": [
    "configs = read('Ni.traj@:')\n",
    "energies = [config.get_potential_energy() for config in configs]\n",
    "a = np.array([config.cell[0, 0] for config in configs])\n",
    "c = np.array([config.cell[2, 2] for config in configs])"
   ]
  },
  {
   "cell_type": "code",
   "execution_count": 14,
   "id": "3ea6b08c-432d-4ebb-90d8-6d70f8bb89a8",
   "metadata": {},
   "outputs": [],
   "source": [
    "functions = np.array([a**0, a, c, a**2, a * c, c**2])\n",
    "p = np.linalg.lstsq(functions.T, energies, rcond=-1)[0]"
   ]
  },
  {
   "cell_type": "code",
   "execution_count": 16,
   "id": "f4f66de8-3056-4e27-9c62-f50ed8acde00",
   "metadata": {},
   "outputs": [],
   "source": [
    "p0 = p[0]\n",
    "p1 = p[1:3]\n",
    "p2 = np.array([(2 * p[3], p[4]), (p[4], 2 * p[5])])\n",
    "a0, c0 = np.linalg.solve(p2.T, -p1)\n",
    "\n",
    "with open('lattice_constant.csv', 'w') as fd:\n",
    "    fd.write(f'{a0:.3f}, {c0:.3f}\\n')"
   ]
  }
 ],
 "metadata": {
  "kernelspec": {
   "display_name": "Python [conda env:base] *",
   "language": "python",
   "name": "conda-base-py"
  },
  "language_info": {
   "codemirror_mode": {
    "name": "ipython",
    "version": 3
   },
   "file_extension": ".py",
   "mimetype": "text/x-python",
   "name": "python",
   "nbconvert_exporter": "python",
   "pygments_lexer": "ipython3",
   "version": "3.12.7"
  }
 },
 "nbformat": 4,
 "nbformat_minor": 5
}
