{
 "cells": [
  {
   "cell_type": "code",
   "execution_count": 94,
   "id": "75ea0470-b750-4dbb-ab6e-37dbea8876f2",
   "metadata": {},
   "outputs": [
    {
     "name": "stderr",
     "output_type": "stream",
     "text": [
      "[13:16:15] SMARTS Parse Error: extra open parentheses while parsing: [C:1]([O:2])([O:6][C:4]=[O:5]\n",
      "[13:16:15] SMARTS Parse Error: check for mistakes around position 13:\n",
      "[13:16:15] [C:1]([O:2])([O:6][C:4]=[O:5]\n",
      "[13:16:15] ~~~~~~~~~~~~^\n",
      "[13:16:15] SMARTS Parse Error: Failed parsing SMARTS '[C:1]([O:2])([O:6][C:4]=[O:5]' for input: '[C:1]([O:2])([O:6][C:4]=[O:5]'\n"
     ]
    },
    {
     "ename": "ValueError",
     "evalue": "ChemicalReactionParserException: Problems constructing product from SMARTS: [C:1]([O:2])([O:6][C:4]=[O:5]",
     "output_type": "error",
     "traceback": [
      "\u001b[1;31m---------------------------------------------------------------------------\u001b[0m",
      "\u001b[1;31mValueError\u001b[0m                                Traceback (most recent call last)",
      "Cell \u001b[1;32mIn[94], line 19\u001b[0m\n\u001b[0;32m     15\u001b[0m     mol \u001b[38;5;241m=\u001b[39m rxn\u001b[38;5;241m.\u001b[39mRunReactants((mol, stearic_acid))[\u001b[38;5;241m0\u001b[39m][\u001b[38;5;241m0\u001b[39m]\n\u001b[0;32m     17\u001b[0m     \u001b[38;5;28;01mreturn\u001b[39;00m Chem\u001b[38;5;241m.\u001b[39mAddHs(mol)\n\u001b[1;32m---> 19\u001b[0m mol \u001b[38;5;241m=\u001b[39m build_triglyceride()\n",
      "Cell \u001b[1;32mIn[94], line 12\u001b[0m, in \u001b[0;36mbuild_triglyceride\u001b[1;34m()\u001b[0m\n\u001b[0;32m      9\u001b[0m stearic_acid \u001b[38;5;241m=\u001b[39m Chem\u001b[38;5;241m.\u001b[39mMolFromSmiles(\u001b[38;5;124m'\u001b[39m\u001b[38;5;124mCCCCCCCCCCCCCCCCCC(=O)O\u001b[39m\u001b[38;5;124m'\u001b[39m)\n\u001b[0;32m     10\u001b[0m oleic_acid \u001b[38;5;241m=\u001b[39m Chem\u001b[38;5;241m.\u001b[39mMolFromSmiles(\u001b[38;5;124mf\u001b[39m\u001b[38;5;124m'\u001b[39m\u001b[38;5;124mCCCCCCCC/C=C\u001b[39m\u001b[38;5;130;01m\\\\\u001b[39;00m\u001b[38;5;124mCCCCCCCC(=O)O\u001b[39m\u001b[38;5;124m'\u001b[39m)\n\u001b[1;32m---> 12\u001b[0m rxn \u001b[38;5;241m=\u001b[39m AllChem\u001b[38;5;241m.\u001b[39mReactionFromSmarts(\u001b[38;5;124m'\u001b[39m\u001b[38;5;124m[C:1]([O:2])([OH:3]).[C:4](=[O:5])[OH:6]>>[C:1]([O:2])([O:6][C:4]=[O:5]\u001b[39m\u001b[38;5;124m'\u001b[39m)\n\u001b[0;32m     13\u001b[0m mol \u001b[38;5;241m=\u001b[39m rxn\u001b[38;5;241m.\u001b[39mRunReactants((glycerol, stearic_acid))[\u001b[38;5;241m0\u001b[39m][\u001b[38;5;241m0\u001b[39m]\n\u001b[0;32m     14\u001b[0m mol \u001b[38;5;241m=\u001b[39m rxn\u001b[38;5;241m.\u001b[39mRunReactants((mol, oleic_acid))[\u001b[38;5;241m0\u001b[39m][\u001b[38;5;241m0\u001b[39m]\n",
      "\u001b[1;31mValueError\u001b[0m: ChemicalReactionParserException: Problems constructing product from SMARTS: [C:1]([O:2])([O:6][C:4]=[O:5]"
     ]
    }
   ],
   "source": [
    "from rdkit import Chem\n",
    "from rdkit.Chem import AllChem\n",
    "import py3Dmol\n",
    "\n",
    "smiles = f'CCCCCCCCCCCCCCCCCC(=O)OCC(COC(=O)CCCCCCCCCCCCCCCCC)OC(=O)CCCCCCC/C=C\\\\CCCCCCCC'"
   ]
  },
  {
   "cell_type": "code",
   "execution_count": null,
   "id": "f36d8087-8ca3-4c8d-92da-56c59aa7a010",
   "metadata": {},
   "outputs": [],
   "source": []
  }
 ],
 "metadata": {
  "kernelspec": {
   "display_name": "Python [conda env:base] *",
   "language": "python",
   "name": "conda-base-py"
  },
  "language_info": {
   "codemirror_mode": {
    "name": "ipython",
    "version": 3
   },
   "file_extension": ".py",
   "mimetype": "text/x-python",
   "name": "python",
   "nbconvert_exporter": "python",
   "pygments_lexer": "ipython3",
   "version": "3.12.7"
  }
 },
 "nbformat": 4,
 "nbformat_minor": 5
}
