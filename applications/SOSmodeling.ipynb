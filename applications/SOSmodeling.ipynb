{
 "cells": [
  {
   "cell_type": "code",
   "execution_count": 4,
   "id": "75ea0470-b750-4dbb-ab6e-37dbea8876f2",
   "metadata": {},
   "outputs": [
    {
     "name": "stdout",
     "output_type": "stream",
     "text": [
      "CNC(C)=O\n"
     ]
    }
   ],
   "source": [
    "from rdkit import Chem\n",
    "from rdkit.Chem import AllChem\n",
    "\n",
    "# Define the reaction SMARTS\n",
    "rxn_smarts = '[C:1](=[O:2])-[OH].[N:3]>>[C:1](=[O:2])-[N:3]'\n",
    "\n",
    "# Create the reaction object\n",
    "rxn = AllChem.ReactionFromSmarts(rxn_smarts)\n",
    "\n",
    "# Define reactants\n",
    "acid = Chem.MolFromSmiles('CC(=O)O')  # Acetic acid\n",
    "amine = Chem.MolFromSmiles('CN')       # Methylamine\n",
    "\n",
    "# Run the reaction\n",
    "products = rxn.RunReactants((acid, amine))\n",
    "\n",
    "# Show products\n",
    "for product in products:\n",
    "    print(Chem.MolToSmiles(product[0]))  # CC(=O)NC"
   ]
  },
  {
   "cell_type": "code",
   "execution_count": null,
   "id": "51f2a919-273e-4bac-a57f-570efd315125",
   "metadata": {},
   "outputs": [],
   "source": []
  }
 ],
 "metadata": {
  "kernelspec": {
   "display_name": "Python [conda env:base] *",
   "language": "python",
   "name": "conda-base-py"
  },
  "language_info": {
   "codemirror_mode": {
    "name": "ipython",
    "version": 3
   },
   "file_extension": ".py",
   "mimetype": "text/x-python",
   "name": "python",
   "nbconvert_exporter": "python",
   "pygments_lexer": "ipython3",
   "version": "3.12.7"
  }
 },
 "nbformat": 4,
 "nbformat_minor": 5
}
