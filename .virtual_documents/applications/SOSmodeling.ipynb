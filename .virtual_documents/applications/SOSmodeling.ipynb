from rdkit import Chem
from rdkit.Chem import AllChem

# Define the reaction SMARTS
rxn_smarts = '[C:1](=[O:2])-[OH].[N:3]>>[C:1](=[O:2])-[N:3]'

# Create the reaction object
rxn = AllChem.ReactionFromSmarts(rxn_smarts)

# Define reactants
acid = Chem.MolFromSmiles('CC(=O)O')  # Acetic acid
amine = Chem.MolFromSmiles('CN')       # Methylamine

# Run the reaction
products = rxn.RunReactants((acid, amine))

# Show products
for product in products:
    print(Chem.MolToSmiles(product[0]))  # CC(=O)NC



