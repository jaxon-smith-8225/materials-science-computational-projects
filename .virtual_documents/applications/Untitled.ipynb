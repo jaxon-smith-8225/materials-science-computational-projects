from rdkit import Chem
from rdkit.Chem import AllChem, Draw
from openmm import app, unit
from openmm.app import PDBFile, ForceField
from openmm.vec3 import Vec3
import mdtraj as md
from openff.toolkit.topology import Molecule
import matplotlib.pyplot as plt

# ==============================================
# STEP 1: Construct SOS Triglyceride with RDKit
# ==============================================
def build_sos_triglyceride():
    # SMILES representation (simplified)
    sos_smiles = "CCCCCCCCCCCCCCCCCC(=O)OCC(COC(=O)CCCCCCC=CCCCCCCCC)OC(=O)CCCCCCCCCCCCCCCCC"
    mol = Chem.MolFromSmiles(sos_smiles)
    mol = Chem.AddHs(mol)  # Add hydrogens for MM optimization
    return mol

sos_mol = build_sos_triglyceride()
print("Initial molecule built.")

# ==============================================
# STEP 2: Generate 3D Conformation with RDKit
# ==============================================
AllChem.EmbedMolecule(sos_mol, randomSeed=42)  # Generate initial 3D structure
AllChem.MMFFOptimizeMolecule(sos_mol)  # Quick MMFF94 optimization in RDKit

# Save initial structure
Chem.MolToPDBFile(sos_mol, "sos_initial.pdb")
print("Initial 3D conformation generated.")

# ==============================================
# STEP 3: Advanced Optimization with OpenMM
# ==============================================
def optimize_with_openmm(pdb_file, forcefield="amber14-all.xml"):
    # Load PDB
    pdb = app.PDBFile(pdb_file)
    
    # Forcefield selection (AMBER or CHARMM)
    forcefield = app.ForceField(forcefield)
    
    # System setup
    system = forcefield.createSystem(
        pdb.topology,
        nonbondedMethod=app.PME,  # Periodic boundary conditions
        nonbondedCutoff=1.0*unit.nanometer,
        constraints=app.HBonds  # Constrain bonds involving hydrogens
    )
    
    # Minimization
    integrator = app.LangevinIntegrator(
        300*unit.kelvin,  # Temperature
        1.0/unit.picoseconds,  # Friction
        2.0*unit.femtoseconds  # Time step
    )
    
    simulation = app.Simulation(pdb.topology, system, integrator)
    simulation.context.setPositions(pdb.positions)
    
    print("Minimizing energy...")
    simulation.minimizeEnergy(maxIterations=1000)
    
    # Save optimized structure
    positions = simulation.context.getState(getPositions=True).getPositions()
    app.PDBFile.writeFile(pdb.topology, positions, open("sos_optimized.pdb", "w"))
    print("Optimization complete.")

optimize_with_openmm("sos_initial.pdb")

# ==============================================
# STEP 4: Analyze Results
# ==============================================
def analyze_conformation(pdb_file):
    traj = md.load(pdb_file)
    
    # Compute end-to-end distance of fatty acid chains
    # (Indicates chain packing and folding)
    chain1 = traj.top.select("resname UNK and name C1 and not type H")[0]  # Adjust atom selection
    chain2 = traj.top.select("resname UNK and name C18 and not type H")[-1]
    
    distance = md.compute_distances(traj, [[chain1, chain2]])[0][0] * 10  # Convert to Å
    print(f"End-to-end distance of stearic chain: {distance:.2f} Å")
    
    # Plot structure
    img = Draw.MolToImage(Chem.MolFromPDBFile(pdb_file), size=(600, 400))
    plt.imshow(img)
    plt.axis('off')
    plt.title("Optimized SOS Triglyceride")
    plt.show()

analyze_conformation("sos_optimized.pdb")



